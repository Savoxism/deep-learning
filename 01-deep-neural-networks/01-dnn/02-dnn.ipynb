{
 "cells": [
  {
   "cell_type": "markdown",
   "metadata": {
    "id": "yqagpbAL4lSh"
   },
   "source": [
    "# Explanation\n",
    "\n",
    "The **backpropagation** algorithm, originally introduced as the **generalized delta rule**, has remained the core of all deep learning since it was introduced over 30 years ago.\n",
    "\n",
    "Fully understanding how it works from first principles is essential to understanding the rest of progress in deep learning. Thinking in terms of how the loss function incentivises the network to learn and how gradients flow back through the network is critical to understand future improvements to neural network architectures, optimization, and regularization.\n",
    "\n",
    "This algorithm is what defines a neural network, and deep learning as a whole.\n",
    "\n",
    "### Resources\n",
    "\n",
    "Thankfully, there are great resources online to learn these fundamentals. These 2 are especially high quality and are required for anyone who hasn't watched them already.\n",
    "- 3blue1brown's neural networks series - [Neural networks](https://youtube.com/playlist?list=PLZHQObOWTQDNU6R1_67000Dx_ZCJB-3pi&si=lNICwc8Q1g5AFRT1)\n",
    "- Andrej Karpathy's introduction - [The spelled-out intro to neural networks and backpropagation: building micrograd](https://www.youtube.com/watch?v=VMj-3S1tku0)\n",
    "\n",
    "I'd highly recommend anyone who hasn't to go through and implement Andrej Karpathy's introduction to backpropagation, even people who are familiar with how neural networks work in depth but learned through a different method.\n",
    "\n",
    "Karpathy's explanation covers how deep learning libraries like PyTorch and JAX work under the hood, and by extension how feed-forward and back-propagation work in depth.\n",
    "\n",
    "### Intuition\n",
    "\n",
    "Training neural networks happens in three distinct steps.\n",
    "1. Inputs are fed-forward through the network as the network performs computations to predict the output.\n",
    "2. The loss is calculated based on the networks predictions and the actual expected output.\n",
    "3. The loss is propagated backward through the network, gradients of the loss with respect to each parameter are calculated, and then each parameter is updated slightly in the direction of improvement via an optimization function. (The direction that enables the steepest descent)\n",
    "\n",
    "This simple process provides the basis for all the complexity in modern networks, and these steps are still true."
   ]
  },
  {
   "cell_type": "markdown",
   "metadata": {},
   "source": [
    "\n",
    "### Resources\n",
    "\n",
    "Thankfully, there are great resources online to learn these fundamentals. These 2 are especially high quality and are required for anyone who hasn't watched them already.\n",
    "- 3blue1brown's neural networks series - [Neural networks](https://youtube.com/playlist?list=PLZHQObOWTQDNU6R1_67000Dx_ZCJB-3pi&si=lNICwc8Q1g5AFRT1)\n",
    "- Andrej Karpathy's introduction - [The spelled-out intro to neural networks and backpropagation: building micrograd](https://www.youtube.com/watch?v=VMj-3S1tku0)\n",
    "\n",
    "I'd highly recommend anyone who hasn't to go through and implement Andrej Karpathy's introduction to backpropagation, even people who are familiar with how neural networks work in depth but learned through a different method.\n",
    "\n",
    "Karpathy's explanation covers how deep learning libraries like PyTorch and JAX work under the hood, and by extension how feed-forward and back-propagation work in depth.\n",
    "\n",
    "### Intuition\n",
    "\n",
    "Training neural networks happens in three distinct steps.\n",
    "1. Inputs are fed-forward through the network as the network performs computations to predict the output.\n",
    "2. The loss is calculated based on the networks predictions and the actual expected output.\n",
    "3. The loss is propagated backward through the network, gradients of the loss with respect to each parameter are calculated, and then each parameter is updated slightly in the direction of improvement via an optimization function.\n",
    "\n",
    "This simple process provides the basis for all the complexity in modern networks, and these steps are still true."
   ]
  },
  {
   "cell_type": "markdown",
   "metadata": {
    "id": "7TWMR7o371l3"
   },
   "source": [
    "# My Notes\n",
    "\n",
    "## 📜 [Learning Internal Representations by Error Propagation](https://stanford.edu/~jlmcc/papers/PDP/Volume%201/Chap8_PDP86.pdf)\n",
    "\n",
    "> There is always a recording (ie. internal representation) of the input patterns in the hidden units in which the similarity of the patterns among the hidden units can support any required mapping from the input to the output units.\n",
    ">\n",
    "\n",
    "> If we have the right connections from input units to a large enough set of hidden units, we can always find a representation that will perform any mapping from input to output through these hidden units.\n",
    ">\n",
    "\n",
    "A feed-forward network with one hidden layer is technically capable of modeling any distribution if given sufficient size. In reality, this is impractical and stops being true very quickly due to other constraints, but it’s an important theoretical consideration.\n",
    "\n",
    "### The Generalized Delta Rule\n",
    "\n",
    "> The learning procedure we propose involves the presentation of a set of pairs of input and output patterns. The system first uses the input vector to produce its own output vector and then compares this with the *desired output*, or *target* vector.\n",
    ">\n",
    "\n",
    "This generalized delta rule is the introduction of the backpropagation learning algorithm used in all neural networks today.\n",
    "\n",
    "> If there is no difference, no learning takes place. Otherwise the weights are changed to reduce the difference.\n",
    ">\n",
    "\n",
    "This introduces the process of calculating the loss, then calculating the gradient of this loss with respect to the parameters, and then incrementing the parameters in the correct direction.\n",
    "\n",
    "> The rule for changing weights following presentation of input/output pair $p$ is given by\n",
    ">\n",
    "\n",
    "$$\n",
    "\\Delta_pw_{ji} = n(t_{pj} - o_{pj}) i_{pi} = n\\delta_{pj}i_{pi}\n",
    "$$\n",
    "\n",
    "> It is useful to see that for linear units it minimizes the squares of the differences between the actual and the desired output values summed over the output units and all pairs of input/output vectors.\n",
    ">\n",
    "\n",
    "This is the introduction of the mean squared error for loss calculation.\n",
    "\n",
    "> To compute $\\delta_{pj} = - \\frac{\\partial E_p}{\\partial net_{pj}}$, we apply the chain rule to write this partial derivative as the product of two factors, one factor reflecting the change in error as a function of the output of the unit and one reflecting the change in the output as a function of changes in the input.\n",
    ">\n",
    "\n",
    "> The application of the generalized delta rule, thus, involves two phases: during the first phase the input is presented and propagated forward through the network to compute the output value $o_{pj}$ for each unit. This output is then compared with the targets, resulting in an error signal $\\sigma_{pj}$ for each output unit.\n",
    ">\n",
    "\n",
    "> The second phase involves a backward pass through the network (analogous to the initial forward pass) during which the error signal is passed to each unit in the network and the appropriate weight changes are made.\n",
    ">\n",
    "\n",
    "First we feed-forward data through the network to compute a prediction. Then we calculate loss based on the mean-squared error with the outputs. Then we back-propagate the loss, calculating gradients and updating parameters.\n",
    "\n",
    "### Simulation Results\n",
    "\n",
    "> We now have a learning procedure which could, in principle, evolve a set of weights to produce an arbitrary mapping from input to output.\n",
    ">\n",
    "\n",
    "> We need a continuous, nonlinear activation function. In most of our experiments we have used the *logistic* activation function. (Sigmoid function)\n",
    ">\n",
    "\n",
    "The activation has to be differentiable in order to support the generalized delta rule, and it needs to introduce a nonlinearity to increase the neural networks capacity to model complex problems.\n",
    "\n",
    "> True gradient descent requires that infinitesimal steps be taken […]. For practical purposes, we choose a learning rate that is as large as possible without leading to oscillation. This offers the most rapid learning.\n",
    ">\n",
    "\n",
    "### Recurrent Nets\n",
    "\n",
    "> There is, for every recurrent network, a feedforward network with identical behavior (over a finite period of time).\n",
    ">\n",
    "\n",
    "> The major problem with [recurrent neural networks] is the memory required. […] Each unit must somehow record the sequence of activation values through which it was driven during the original processing. It is not entirely clear how such a mechanism could be implemented in the brain.\n",
    ">\n",
    "\n",
    "They give the examples of *learning to be a shift register* and *learning to complete sequences* as the originally interesting problems concerning recurrent neural networks.\n",
    "\n",
    "### Conclusion\n",
    "\n",
    "> We believe that we have answered Minsky and Papert’s challenge and *have* found a learning result sufficiently powerful to demonstrate that their pessimism about learning in multilayer machines was misplaced.\n",
    ">\n",
    "\n",
    "Seeing the skepticism in hindsight is a lesson for the future as well. Especially when you can sympathize with the skeptical side (as a thought experiment) and understand what would lead them to their (consensus) beliefs, you can see what it would take to have conviction in the true (but non-consensus) reality that deep learning offers promise.\n",
    "\n",
    "> One way to view the procedure we have been describing is as a parallel computer that, having been shown the appropriate input/output exemplars specifying some function, programs itself to compute that function in general.\n",
    ">\n",
    "\n",
    "> Finally, we should say that this work is not yet in a finished form.\n",
    ">\n",
    "\n",
    "Funny seeing a line like this in hindsight and knowing what this work in deep learning led to."
   ]
  },
  {
   "cell_type": "markdown",
   "metadata": {
    "id": "xC2Ah3o04lSi"
   },
   "source": [
    "# Implementation\n",
    "\n",
    "This implementation is based on Andrej Karpathy's micrograd tutorial ([the spelled-out intro to neural networks and backpropagation: building micrograd](https://www.youtube.com/watch?v=VMj-3S1tku0)), which is the best resource on the internet for building all the intuitions of how feed-forward networks and backpropagation work."
   ]
  },
  {
   "cell_type": "code",
   "execution_count": 1,
   "metadata": {
    "executionInfo": {
     "elapsed": 3,
     "status": "ok",
     "timestamp": 1716458270842,
     "user": {
      "displayName": "Adam Majmudar",
      "userId": "11411695890251280564"
     },
     "user_tz": 420
    },
    "id": "jxJPeJ184lSj"
   },
   "outputs": [],
   "source": [
    "import math\n",
    "import random"
   ]
  },
  {
   "cell_type": "markdown",
   "metadata": {
    "id": "cJrCtNUm4rsI"
   },
   "source": [
    "Here, we create a Value object equivalent to a value of a tensor in pytorch, which handles automatically creating an opgraph as we perform computatinos on it, and automatically handles backpropagation."
   ]
  },
  {
   "cell_type": "code",
   "execution_count": 3,
   "metadata": {
    "executionInfo": {
     "elapsed": 156,
     "status": "ok",
     "timestamp": 1716458627949,
     "user": {
      "displayName": "Adam Majmudar",
      "userId": "11411695890251280564"
     },
     "user_tz": 420
    },
    "id": "lzfsSH9S4lSj"
   },
   "outputs": [],
   "source": [
    "class Value:\n",
    "    def __init__(self, data, _children=(), _op='', label=''):\n",
    "        self.data = data               # the actual value of the parameter (or data)\n",
    "        self.grad = 0.0                # initialize gradients to 0\n",
    "        self._backward = lambda: None  # configured when the Value object is a result of an operation\n",
    "        self._prev = set(_children)    # the tree of parents\n",
    "        self._op = _op\n",
    "        self.label = label\n",
    "\n",
    "    def __repr__(self):\n",
    "        return f\"Value(data={self.data})\"\n",
    "\n",
    "    def __add__(self, other):\n",
    "        other = other if isinstance(other, Value) else Value(other)\n",
    "        out = Value(self.data + other.data, (self, other), '+')\n",
    "\n",
    "        # addition spreads the gradient back through to parents\n",
    "        def _backward():\n",
    "            self.grad += 1.0 * out.grad\n",
    "            other.grad += 1.0 * out.grad\n",
    "\n",
    "        out._backward = _backward\n",
    "\n",
    "        return out\n",
    "\n",
    "    def __radd__(self, other):\n",
    "        return self + other\n",
    "\n",
    "    def __neg__(self):\n",
    "        return self * - 1\n",
    "\n",
    "    def __sub__(self, other):\n",
    "        return self + (-other)\n",
    "\n",
    "    def __mul__(self, other):\n",
    "        other = other if isinstance(other, Value) else Value(other)\n",
    "        out = Value(self.data * other.data, (self, other), '*')\n",
    "\n",
    "        # multiplication spreads the gradient back scaled by each weight\n",
    "        def _backward():\n",
    "            self.grad += other.data * out.grad\n",
    "            other.grad += self.data * out.grad\n",
    "\n",
    "        out._backward = _backward\n",
    "\n",
    "        return out\n",
    "\n",
    "    def __rmul__(self, other):\n",
    "        return self * other\n",
    "\n",
    "    def __truediv__(self, other):\n",
    "        return self * other**-1\n",
    "\n",
    "    def __rtruediv__(self, other): # other / self\n",
    "        return other * self**-1\n",
    "\n",
    "    def __pow__(self, other):\n",
    "        assert isinstance(other, (int, float))\n",
    "        out = Value(self.data ** other, (self, ), f'**{other}')\n",
    "\n",
    "        # gradient of raising to power\n",
    "        def _backward():\n",
    "            self.grad += other * (self.data ** (other - 1)) * out.grad\n",
    "\n",
    "        out._backward = _backward\n",
    "\n",
    "        return out\n",
    "\n",
    "    def exp(self):\n",
    "        x = self.data\n",
    "        out = Value(math.exp(x), (self, ), 'exp')\n",
    "\n",
    "        # gradient of exponentiation\n",
    "        def _backward():\n",
    "            self.grad += out.data * out.grad\n",
    "        out._backward = _backward\n",
    "\n",
    "        return out\n",
    "\n",
    "    def tanh(self):\n",
    "        x = self.data\n",
    "        t = (math.exp(2*x) - 1)/(math.exp(2*x) + 1)\n",
    "        out = Value(t, (self, ), 'tanh')\n",
    "\n",
    "        # gradient of tanh\n",
    "        def _backward():\n",
    "            self.grad += (1 - t**2) * out.grad\n",
    "\n",
    "        out._backward = _backward\n",
    "\n",
    "        return out\n",
    "\n",
    "    def relu(self):\n",
    "        out = Value(0 if self.data < 0 else self.data, (self,), 'ReLU')\n",
    "\n",
    "        # gated relu gradient (important for sparse representations)\n",
    "        def _backward():\n",
    "            self.grad += (out.data > 0) * out.grad\n",
    "        out._backward = _backward\n",
    "\n",
    "        return out\n",
    "\n",
    "    def backward(self):\n",
    "        topo = []\n",
    "        visited = set()\n",
    "        # create a topological sort of the operation graph\n",
    "        def build_topo(v):\n",
    "            if v not in visited:\n",
    "                visited.add(v)\n",
    "                for child in v._prev:\n",
    "                    build_topo(child)\n",
    "                topo.append(v)\n",
    "        build_topo(self)\n",
    "\n",
    "        # traverse the opgraph in reverse order (from loss to inputs) and backpropagate gradients\n",
    "        # we can just call this recursively because we need to make sure that each parent\n",
    "        # only gets the backward function called once\n",
    "        self.grad = 1\n",
    "        for v in reversed(topo):\n",
    "            v._backward()"
   ]
  },
  {
   "cell_type": "markdown",
   "metadata": {
    "id": "ZaJ-98cj6qc0"
   },
   "source": [
    "Using this object, we can create a pytorch like linear layer with neurons, and a full multi-layer perceptron feed-forward neural network that automatically configures the graph of operations and handles backpropagation."
   ]
  },
  {
   "cell_type": "code",
   "execution_count": 2,
   "metadata": {
    "executionInfo": {
     "elapsed": 158,
     "status": "ok",
     "timestamp": 1716458631667,
     "user": {
      "displayName": "Adam Majmudar",
      "userId": "11411695890251280564"
     },
     "user_tz": 420
    },
    "id": "FfviDsoo4lSj"
   },
   "outputs": [],
   "source": [
    "# A single neuron\n",
    "class Neuron:\n",
    "    def __init__(self, nin, nonlin=True):\n",
    "        # initialize a weight and bias\n",
    "        self.w = [Value(random.uniform(-1, 1)) for _ in range(nin)]\n",
    "        self.b = Value(0)\n",
    "        self.nonlin = nonlin\n",
    "\n",
    "    def __call__(self, x):\n",
    "        # g(w*x + b)\n",
    "        act = sum((wi*xi for wi, xi in zip(self.w, x)), self.b)\n",
    "        return act.relu() if self.nonlin else act\n",
    "\n",
    "    def parameters(self): # return a list of parameters\n",
    "        return self.w + [self.b]\n",
    "\n",
    "# A layer consists of multiple neurons\n",
    "class Layer:\n",
    "    def __init__(self, nin, nout, **kwargs):\n",
    "        # nin input neurons to this layer, and nout neurons in this layer\n",
    "        self.neurons = [Neuron(nin, **kwargs) for _ in range(nout)]\n",
    "\n",
    "    def __call__(self, x):\n",
    "        outs = [n(x) for n in self.neurons]\n",
    "        return outs[0] if len(outs) == 1 else outs\n",
    "\n",
    "    def parameters(self):\n",
    "        return [p for neuron in self.neurons for p in neuron.parameters()]\n",
    "\n",
    "# create an MLP network with a number of feed forward layers\n",
    "class MLP:\n",
    "    def __init__(self, nin, nouts):\n",
    "        sz = [nin] + nouts # size of each layer\n",
    "        # last layer should not use relu\n",
    "        self.layers = [Layer(sz[i], sz[i+1], nonlin=i!=len(nouts)-1) for i in range(len(nouts))]\n",
    "\n",
    "    def __call__(self, x):\n",
    "        for layer in self.layers:\n",
    "            x = layer(x)\n",
    "        return x\n",
    "\n",
    "    def parameters(self):\n",
    "        return [p for layer in self.layers for p in layer.parameters()]"
   ]
  },
  {
   "cell_type": "code",
   "execution_count": 4,
   "metadata": {
    "executionInfo": {
     "elapsed": 148,
     "status": "ok",
     "timestamp": 1716458675171,
     "user": {
      "displayName": "Adam Majmudar",
      "userId": "11411695890251280564"
     },
     "user_tz": 420
    },
    "id": "2u7WSdFF4lSj"
   },
   "outputs": [],
   "source": [
    "import numpy as np\n",
    "import matplotlib.pyplot as plt\n",
    "%matplotlib inline"
   ]
  },
  {
   "cell_type": "code",
   "execution_count": 5,
   "metadata": {
    "executionInfo": {
     "elapsed": 137,
     "status": "ok",
     "timestamp": 1716458677428,
     "user": {
      "displayName": "Adam Majmudar",
      "userId": "11411695890251280564"
     },
     "user_tz": 420
    },
    "id": "sLG_n6Pb4lSk"
   },
   "outputs": [],
   "source": [
    "np.random.seed(1337)\n",
    "random.seed(1337)"
   ]
  },
  {
   "cell_type": "code",
   "execution_count": 6,
   "metadata": {
    "colab": {
     "base_uri": "https://localhost:8080/",
     "height": 463
    },
    "executionInfo": {
     "elapsed": 1777,
     "status": "ok",
     "timestamp": 1716458680152,
     "user": {
      "displayName": "Adam Majmudar",
      "userId": "11411695890251280564"
     },
     "user_tz": 420
    },
    "id": "_he3K2lM4lSk",
    "outputId": "1f358832-c9fb-46ba-9ef6-89fd04958f44"
   },
   "outputs": [
    {
     "data": {
      "text/plain": [
       "<matplotlib.collections.PathCollection at 0x136a0cce0>"
      ]
     },
     "execution_count": 6,
     "metadata": {},
     "output_type": "execute_result"
    },
    {
     "data": {
      "image/png": "[encoded data removed]",
      "text/plain": [
       "<Figure size 500x500 with 1 Axes>"
      ]
     },
     "metadata": {},
     "output_type": "display_data"
    }
   ],
   "source": [
    "from sklearn.datasets import make_moons\n",
    "X, y = make_moons(n_samples=100, noise=0.1)\n",
    "\n",
    "y = y*2 - 1 # make y be -1 or 1\n",
    "# visualize in 2D\n",
    "plt.figure(figsize=(5,5))\n",
    "plt.scatter(X[:,0], X[:,1], c=y, s=20, cmap='jet')"
   ]
  },
  {
   "cell_type": "code",
   "execution_count": 7,
   "metadata": {
    "executionInfo": {
     "elapsed": 162,
     "status": "ok",
     "timestamp": 1716458774695,
     "user": {
      "displayName": "Adam Majmudar",
      "userId": "11411695890251280564"
     },
     "user_tz": 420
    },
    "id": "of74L3FE4lSk"
   },
   "outputs": [],
   "source": [
    "model = MLP(2, [16, 16, 1])"
   ]
  },
  {
   "cell_type": "code",
   "execution_count": 8,
   "metadata": {
    "executionInfo": {
     "elapsed": 147,
     "status": "ok",
     "timestamp": 1716458688565,
     "user": {
      "displayName": "Adam Majmudar",
      "userId": "11411695890251280564"
     },
     "user_tz": 420
    },
    "id": "JcFzL1d84lSk"
   },
   "outputs": [],
   "source": [
    "def loss(batch_size=None):\n",
    "    # implement batching for sgd with Xb, yb\n",
    "    if batch_size is None:\n",
    "        Xb, yb = X, y\n",
    "    else:\n",
    "        # get batch_size number of indices of random elements\n",
    "        ri = np.random.permutation(X.shape[0])[:batch_size]\n",
    "        # get batch_size random elements\n",
    "        Xb, yb = X[ri], y[ri]\n",
    "    # create coordinate pairs of Value\n",
    "    inputs = [list(map(Value, xrow)) for xrow in Xb]\n",
    "\n",
    "    # forward the model to get scores\n",
    "    scores = list(map(model, inputs))\n",
    "\n",
    "    # svm \"max-margin\" loss\n",
    "    losses = [(1.0 + -yi*scorei).relu() for yi, scorei in zip(yb, scores)]\n",
    "    data_loss = sum(losses) * (1.0 / len(losses))\n",
    "\n",
    "    # L2 regularization\n",
    "    alpha = 1e-4 # how much to penalize\n",
    "    reg_loss = alpha * sum((p*p for p in model.parameters())) # compute penalty for L^2 norm on parameters\n",
    "    total_loss = data_loss + reg_loss # add penalty (prefer lower weight/bias values)\n",
    "\n",
    "    # accuracy\n",
    "    accuracy = [1.0 if (yi > 0) == (scorei.data > 0) else 0.0 for yi, scorei in zip(yb, scores)]\n",
    "    return total_loss, sum(accuracy) / len(accuracy)"
   ]
  },
  {
   "cell_type": "code",
   "execution_count": 9,
   "metadata": {
    "colab": {
     "base_uri": "https://localhost:8080/"
    },
    "executionInfo": {
     "elapsed": 65948,
     "status": "ok",
     "timestamp": 1716458842778,
     "user": {
      "displayName": "Adam Majmudar",
      "userId": "11411695890251280564"
     },
     "user_tz": 420
    },
    "id": "iQub_h3d4lSk",
    "outputId": "286d3631-485e-4e41-bcb9-cb38cf664bc1"
   },
   "outputs": [
    {
     "name": "stdout",
     "output_type": "stream",
     "text": [
      "step 0 loss 0.8958441028683222, accuracy 50.0%\n",
      "step 1 loss 1.723590533697202, accuracy 81.0%\n",
      "step 2 loss 0.6723196877414359, accuracy 79.0%\n",
      "step 3 loss 0.7412153684935278, accuracy 80.0%\n",
      "step 4 loss 0.37027046662789037, accuracy 84.0%\n",
      "step 5 loss 0.3119027620246684, accuracy 87.0%\n",
      "step 6 loss 0.2819704680077248, accuracy 88.0%\n",
      "step 7 loss 0.2676315441313429, accuracy 89.0%\n",
      "step 8 loss 0.25307796211694494, accuracy 90.0%\n",
      "step 9 loss 0.23690336165011286, accuracy 91.0%\n",
      "step 10 loss 0.22641409685817457, accuracy 92.0%\n",
      "step 11 loss 0.21610132135962612, accuracy 92.0%\n",
      "step 12 loss 0.20755513794450187, accuracy 92.0%\n",
      "step 13 loss 0.20894549111921906, accuracy 92.0%\n",
      "step 14 loss 0.19708481878784764, accuracy 93.0%\n",
      "step 15 loss 0.19331429218894397, accuracy 92.0%\n",
      "step 16 loss 0.1858169696622174, accuracy 93.0%\n",
      "step 17 loss 0.18180439532692358, accuracy 94.0%\n",
      "step 18 loss 0.17863766447005971, accuracy 94.0%\n",
      "step 19 loss 0.17565206113961324, accuracy 94.0%\n"
     ]
    }
   ],
   "source": [
    "# optimization\n",
    "for k in range(20):\n",
    "    # forward pass\n",
    "    total_loss, acc = loss()\n",
    "\n",
    "    # backward pass\n",
    "    for p in model.parameters():\n",
    "        p.grad = 0.0\n",
    "    total_loss.backward()\n",
    "\n",
    "    # update\n",
    "    learning_rate = 1.0 - 0.9*k/20 # decrease learning rate over time\n",
    "    for p in model.parameters():\n",
    "        p.data -= learning_rate * p.grad # increment in negative grad direction\n",
    "\n",
    "    if k % 1 == 0:\n",
    "        print(f\"step {k} loss {total_loss.data}, accuracy {acc*100}%\")"
   ]
  },
  {
   "cell_type": "markdown",
   "metadata": {
    "id": "tU5nDlgK7vVf"
   },
   "source": [
    "Now with a fully trained network, we can visualize its decision boundary"
   ]
  },
  {
   "cell_type": "code",
   "execution_count": 10,
   "metadata": {
    "colab": {
     "base_uri": "https://localhost:8080/",
     "height": 448
    },
    "executionInfo": {
     "elapsed": 8143,
     "status": "ok",
     "timestamp": 1716459020986,
     "user": {
      "displayName": "Adam Majmudar",
      "userId": "11411695890251280564"
     },
     "user_tz": 420
    },
    "id": "RNCssfn74lSk",
    "outputId": "c607f4c4-387b-4ccd-e372-c292f4c37e62"
   },
   "outputs": [
    {
     "data": {
      "text/plain": [
       "(-1.548639298268643, 1.951360701731357)"
      ]
     },
     "execution_count": 10,
     "metadata": {},
     "output_type": "execute_result"
    },
    {
     "data": {
      "image/png": "[encoded data removed]",
      "text/plain": [
       "<Figure size 640x480 with 1 Axes>"
      ]
     },
     "metadata": {},
     "output_type": "display_data"
    }
   ],
   "source": [
    "# visualize decision boundary\n",
    "h = 0.25\n",
    "x_min, x_max = X[:, 0].min() - 1, X[:, 0].max() + 1\n",
    "y_min, y_max = X[:, 1].min() - 1, X[:, 1].max() + 1\n",
    "xx, yy = np.meshgrid(np.arange(x_min, x_max, h),\n",
    "                     np.arange(y_min, y_max, h))\n",
    "Xmesh = np.c_[xx.ravel(), yy.ravel()]\n",
    "inputs = [list(map(Value, xrow)) for xrow in Xmesh]\n",
    "scores = list(map(model, inputs))\n",
    "Z = np.array([s.data > 0 for s in scores])\n",
    "Z = Z.reshape(xx.shape)\n",
    "\n",
    "fig = plt.figure()\n",
    "plt.contourf(xx, yy, Z, cmap=plt.cm.Spectral, alpha=0.8)\n",
    "plt.scatter(X[:, 0], X[:, 1], c=y, s=40, cmap=plt.cm.Spectral)\n",
    "plt.xlim(xx.min(), xx.max())\n",
    "plt.ylim(yy.min(), yy.max())"
   ]
  }
 ],
 "metadata": {
  "colab": {
   "provenance": []
  },
  "kernelspec": {
   "display_name": "Python 3",
   "language": "python",
   "name": "python3"
  },
  "language_info": {
   "codemirror_mode": {
    "name": "ipython",
    "version": 3
   },
   "file_extension": ".py",
   "mimetype": "text/x-python",
   "name": "python",
   "nbconvert_exporter": "python",
   "pygments_lexer": "ipython3",
   "version": "3.12.2"
  }
 },
 "nbformat": 4,
 "nbformat_minor": 0
}
